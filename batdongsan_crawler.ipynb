{
 "cells": [
  {
   "cell_type": "markdown",
   "id": "168e15fa-f76a-4bed-8d92-c1e358cbfaf3",
   "metadata": {},
   "source": [
    "Đối tượng để crawl thông tin nhà bán: Website Batdongsan.com.vn\n",
    "Cụ thể: Nhà riêng, Nhà biệt thự, liền kề, Nhà mặt phố, Shophouse, nhà phố thương mại.\n",
    "Link: https://batdongsan.com.vn/ban-nha-dat-tp-hcm"
   ]
  },
  {
   "cell_type": "markdown",
   "id": "1c1d7131-b6ad-4208-9f57-c166a888d398",
   "metadata": {
    "tags": []
   },
   "source": [
    "# 1. Các cài đặt cần chuẩn bị"
   ]
  },
  {
   "cell_type": "code",
   "execution_count": null,
   "id": "1bd7f354-1d93-4829-947a-d2c63afac050",
   "metadata": {},
   "outputs": [],
   "source": [
    "!pip install selenium"
   ]
  },
  {
   "cell_type": "code",
   "execution_count": null,
   "id": "795143af-26c3-4258-914f-4ebf0acdd258",
   "metadata": {},
   "outputs": [],
   "source": [
    "!pip install undetected-chromedriver"
   ]
  },
  {
   "cell_type": "code",
   "execution_count": null,
   "id": "1e85394c-22d8-4c0c-8fca-dcdc86fa54e3",
   "metadata": {},
   "outputs": [],
   "source": [
    "\"\"\"\n",
    "!pip install webdriver-manager\n",
    "!pip install chromedriver-autoinstaller\n",
    "\"\"\""
   ]
  },
  {
   "cell_type": "code",
   "execution_count": 1,
   "id": "186b8e13-fd79-40cd-9fa4-08fa8eef4eb5",
   "metadata": {},
   "outputs": [],
   "source": [
    "# Thư viện:\n",
    "from selenium import webdriver\n",
    "#from selenium.webdriver.common.keys import Keys\n",
    "from selenium.webdriver.common.by import By\n",
    "from selenium.webdriver.support.ui import WebDriverWait\n",
    "from selenium.webdriver.support import expected_conditions as EC\n",
    "#from webdriver_manager.chrome import ChromeDriverManager\n",
    "from time import sleep\n",
    "import time\n",
    "import undetected_chromedriver as uc\n",
    "#import chromedriver_autoinstaller\n",
    "import pandas as pd\n",
    "import csv"
   ]
  },
  {
   "cell_type": "markdown",
   "id": "aa254860-8275-4ff7-930b-e77697744b94",
   "metadata": {
    "jp-MarkdownHeadingCollapsed": true,
    "tags": []
   },
   "source": [
    "# 2. Tạo file CSV chứa danh sách đường dẫn tới trang thông tin chi tiết của từng ngôi nhà được rao bán trên batdongsan.com"
   ]
  },
  {
   "cell_type": "code",
   "execution_count": null,
   "id": "b6237f1c-7b6c-4c5a-8713-4997e3906f7c",
   "metadata": {},
   "outputs": [],
   "source": [
    "#chromedriver_autoinstaller.install()\n",
    "options = webdriver.ChromeOptions()\n",
    "#driver = webdriver.Chrome()\n",
    "driver = uc.Chrome()\n",
    "\n",
    "# Trả về một List chứa các đường dẫn URL tới trang thông tin chi tiết của từng ngôi nhà được rao bán\n",
    "def getOnePage_All_IndividualURL(link_elements):\n",
    "    onePage_url_list = []\n",
    "    for link in link_elements: # Duyệt qua từng element trong link_elements,\n",
    "        href = link.get_attribute(\"href\") # nếu thấy có đường dẫn tới URL của một ngôi nhà,\n",
    "        onePage_url_list.append(href) # thì append chúng vào biến trả về.\n",
    "        #print(href)\n",
    "    #print(\"Total number of Houses in this page =\", len(onePage_url_list))\n",
    "    return onePage_url_list\n",
    "\n",
    "# Trả về số trang cuối cùng (kiểu int) trong tìm kiếm bán nhà đất ở TP.HCM, ví dụ: 1251\n",
    "def getLastPage_Number(NextPage_xpath):\n",
    "    driver.get(f\"https://batdongsan.com.vn/ban-nha-dat-tp-hcm\")\n",
    "    nextPage_list = driver.find_elements(\"xpath\", NextPage_xpath)\n",
    "    lastPage = int(nextPage_list[-1].text.replace(\".\", \"\")) # Lấy trang cuối cùng (cũng là elemnt cuối), convert từ string sang int.\n",
    "    #print(type(lastPage))\n",
    "    print(\"The last Page is: \", lastPage)\n",
    "    return lastPage\n",
    "\n",
    "individualURL_xpath = '//a[@class=\"js__product-link-for-product-id\"]'# individualURL_xpath = '//a[@class=\"js__product-link-for-product-id\"]/@href'\n",
    "NextPage_xpath = '//a[@class=\"re__pagination-number\"]'\n",
    "lastPage = getLastPage_Number(NextPage_xpath)\n",
    "\n",
    "links = [] # Tạo một biến List để chứa toàn bộ URL dẫn đến trang cá nhân chi tiết của tất cả các ngôi nhà.\n",
    "for i in range(1, lastPage+1): # Gọi vòng lập để duyệt tất cả các Page\n",
    "    temp_links = []\n",
    "    driver.get(f\"https://batdongsan.com.vn/ban-nha-dat-tp-hcm/p{i}\") # Mở từng Page lên.\n",
    "    link_elements = driver.find_elements(\"xpath\", individualURL_xpath) # Lấy toàn bộ element có xpath giống với individualURL_xpath.\n",
    "    temp_links = getOnePage_All_IndividualURL(link_elements)\n",
    "    for e in temp_links: # Dùng vòng lập để hoàn thiện biến list chứa URL của tất cả ngôi nhà.\n",
    "        links.append(e)\n",
    "\n",
    "time.sleep(10) # Dừng lại 10 giây.\n",
    "driver.close() # Đóng cửa sổ mà Selenium đang automated control."
   ]
  },
  {
   "cell_type": "code",
   "execution_count": 8,
   "id": "2b6cf355-fd17-46ab-9b64-200b70491e2d",
   "metadata": {},
   "outputs": [
    {
     "name": "stdout",
     "output_type": "stream",
     "text": [
      "Total number of Houses find = 29240\n"
     ]
    }
   ],
   "source": [
    "driver.quit()\n",
    "print(\"Total number of Houses find =\", len(links))"
   ]
  },
  {
   "cell_type": "code",
   "execution_count": 9,
   "id": "09e3d46c-a50a-4040-904e-562420d47754",
   "metadata": {},
   "outputs": [
    {
     "name": "stdout",
     "output_type": "stream",
     "text": [
      "Total number of Houses Original = 29240\n",
      "Total number of Houses after removing duplicate:  27862\n"
     ]
    }
   ],
   "source": [
    "# Xóa bớt các url bị trùng lập:\n",
    "print(\"Total number of Houses Original =\", len(links))\n",
    "links2 = [*set(links)]\n",
    "print(\"Total number of Houses after removing duplicate: \", len(links2))"
   ]
  },
  {
   "cell_type": "code",
   "execution_count": 10,
   "id": "ef88960d-c746-43c5-8cae-42cdf1ca20c1",
   "metadata": {},
   "outputs": [],
   "source": [
    "# Xuất ra file CSV\n",
    "diction = {'href': links2} # Thêm tên cột \"href\", nơi chứa các đường link bán nhà.\n",
    "df0 = pd.DataFrame(diction) # Convert biến Dictionary thành Pandas Dataframe.\n",
    "df0.to_csv('URLs_data.csv') # Lưu dataframe thành file CSV."
   ]
  },
  {
   "cell_type": "markdown",
   "id": "7d5037fd-495f-4e9f-b9ba-e097cee65267",
   "metadata": {
    "tags": []
   },
   "source": [
    "# 3. Duyệt từng page chi tiết, crawl toàn bộ thông tin của từng ngôi nhà rao bán"
   ]
  },
  {
   "cell_type": "code",
   "execution_count": null,
   "id": "a8e69874",
   "metadata": {
    "tags": []
   },
   "outputs": [],
   "source": [
    "# Chuẩn bị sẵn file output CSV rỗng, chỉ có tên các cột mà thôi\n",
    "with open('dataset.csv', 'w', newline='', encoding=\"utf-8\") as csvfile:\n",
    "    # writerow() method = write a single row into a CSV file.\n",
    "    # writerows() method = write multiple rows to a CSV file.\n",
    "    writerObj = csv.writer(csvfile)\n",
    "    fields = [\"Tiêu đề\", \"Địa chỉ\", \"Khu vực\", \"Ngày đăng\", \"Ngày hết hạn\", \"Loại tin\", \"Mã tin\", \"Người đăng\", \"Khoảng giá phổ biến Min\", \"Giá phổ biến nhất\", \"Khoảng giá phổ biến Max\", \"Giá của tin đang xem\", \"Diện tích\", \"Mức giá\", \"Mặt tiền\", \"Đường vào\", \"Hướng nhà\", \"Hướng ban công\", \"Số tầng\", \"Số phòng ngủ\", \"Số toilet\", \"Pháp lý\", \"Nội thất\"]\n",
    "    writerObj.writerow(fields)"
   ]
  },
  {
   "cell_type": "markdown",
   "id": "dd22020d-acde-4f7e-997b-4776f9aa6ac9",
   "metadata": {
    "tags": []
   },
   "source": [
    "## 3.1 Nạp dữ liệu"
   ]
  },
  {
   "cell_type": "code",
   "execution_count": 2,
   "id": "b72f3833-1043-476b-ad1f-579901477c1f",
   "metadata": {},
   "outputs": [
    {
     "name": "stdout",
     "output_type": "stream",
     "text": [
      "<class 'pandas.core.frame.DataFrame'>\n",
      "RangeIndex: 27862 entries, 0 to 27861\n",
      "Data columns (total 2 columns):\n",
      " #   Column      Non-Null Count  Dtype \n",
      "---  ------      --------------  ----- \n",
      " 0   Unnamed: 0  27862 non-null  int64 \n",
      " 1   href        27862 non-null  string\n",
      "dtypes: int64(1), string(1)\n",
      "memory usage: 435.5 KB\n"
     ]
    }
   ],
   "source": [
    "# Load file CSV chứa các URL dẫn tới từng ngôi nhà đã hoàn thành ở phần trước\n",
    "df1 = pd.read_csv('URLs_data.csv') # \"URLs_data.csv\" phải ở cùng thư mục với notebook này.\n",
    "df1['href'] = df1['href'].astype(pd.StringDtype()) # Convert Object thành String.\n",
    "df1.info()"
   ]
  },
  {
   "cell_type": "code",
   "execution_count": 14,
   "id": "d1bb9cab-5336-4be2-911a-5dc4f2073e15",
   "metadata": {},
   "outputs": [
    {
     "name": "stdout",
     "output_type": "stream",
     "text": [
      "['https://batdongsan.com.vn/ban-nha-biet-thu-lien-ke-duong-tran-ngoc-dien-phuong-thao-dien/ban-nhanh-quan-2-dt-10x20-ham-3-lau-ho-boi-san-vuon-gia-35-ty-pr36590138', 'https://batdongsan.com.vn/ban-nha-rieng-duong-vo-thi-nho-phuong-tan-thuan-dong-1/q7-hxh-kdc-nam-long-hiem-co-ban-dt-70m2-nhinh-6-ty-chu-nhiet-ban-gap-pr37494857']\n"
     ]
    }
   ],
   "source": [
    "# Tạo biến list chứa các url để duyệt từng cái một trong vòng lặp for\n",
    "urls_list = df1['href'].values.tolist() \n",
    "print(urls_list[20499:20499+2])"
   ]
  },
  {
   "cell_type": "markdown",
   "id": "2d7c244f-b3e1-472a-a6db-0086b5b6a4ca",
   "metadata": {
    "tags": []
   },
   "source": [
    "## 3.2 Hàm tính toán và làm việc"
   ]
  },
  {
   "cell_type": "code",
   "execution_count": 4,
   "id": "ec0edc86-890d-4b3d-91e6-61bae607070f",
   "metadata": {},
   "outputs": [],
   "source": [
    "# Write a Single Row to a CSV File from a Python Dictionary\n",
    "def addingSingleRow_toBaseCSV(dictVarFinal):\n",
    "    with open('dataset.csv', 'a+', newline='', encoding=\"utf-8\") as csv_file:\n",
    "        headers = [\"Tiêu đề\", \"Địa chỉ\", \"Khu vực\", \"Ngày đăng\", \"Ngày hết hạn\", \"Loại tin\", \"Mã tin\", \"Người đăng\", \"Khoảng giá phổ biến Min\", \"Giá phổ biến nhất\", \"Khoảng giá phổ biến Max\", \"Giá của tin đang xem\", \"Diện tích\", \"Mức giá\", \"Mặt tiền\", \"Đường vào\", \"Hướng nhà\", \"Hướng ban công\", \"Số tầng\", \"Số phòng ngủ\", \"Số toilet\", \"Pháp lý\", \"Nội thất\"]\n",
    "        writerObj = csv.DictWriter(csv_file, fieldnames=headers, delimiter=',')\n",
    "        writerObj.writerow(dictVarFinal)"
   ]
  },
  {
   "cell_type": "code",
   "execution_count": 5,
   "id": "69bc560b-98bb-43b1-9ed9-ba5e7030c01f",
   "metadata": {},
   "outputs": [],
   "source": [
    "# Nhận vào 2 biến List, trả về 1 biến Dictionary\n",
    "def getMax11Fields_dependOnInputLength(titleList, valueList):\n",
    "    dictVar = dict(zip(titleList, valueList)) # Convert 2 list into 1 dictionary.\n",
    "    #print(\"Important Fields of this House: \" + str(dictVar))\n",
    "    return dictVar\n",
    "\n",
    "# Nhận vào 2 biến Dictionary, cập nhật Dictionary thứ hai vào biến Dictionary thứ nhất, xóa Dictionary thứ hai\n",
    "def Merge(dict1, dict2):\n",
    "    return(dict1.update(dict2)) # returns None. Vì vậy không cần gán biến mới cho hàm làm gì.\n",
    "\n",
    "# Gom tất cả Fields về thành một Dictionary\n",
    "def uniteAll_Into1Dict(tieude, diachi, khuvuc, ngaydang, ngayhethan, loaitin, matin, nguoidang, khoanggiaphobien_min, khoanggiaphobien_popular, khoanggiaphobien_max, khoanggiaphobien_ofThisHouse, dictVar):\n",
    "    dictVarFinal = {\"Tiêu đề\":tieude, \n",
    "                    \"Địa chỉ\":diachi, \n",
    "                    \"Khu vực\":khuvuc, \n",
    "                    \"Ngày đăng\":ngaydang,\n",
    "                    \"Ngày hết hạn\":ngayhethan, \n",
    "                    \"Loại tin\":loaitin, \n",
    "                    \"Mã tin\":matin, \n",
    "                    \"Người đăng\": nguoidang,\n",
    "                    \"Khoảng giá phổ biến Min\": khoanggiaphobien_min,\n",
    "                    \"Giá phổ biến nhất\": khoanggiaphobien_popular,\n",
    "                    \"Khoảng giá phổ biến Max\": khoanggiaphobien_max,\n",
    "                    \"Giá của tin đang xem\": khoanggiaphobien_ofThisHouse}\n",
    "    Merge(dictVarFinal, dictVar)\n",
    "    return dictVarFinal"
   ]
  },
  {
   "cell_type": "code",
   "execution_count": 6,
   "id": "299ba571-d15f-4246-966e-c1a25621d653",
   "metadata": {},
   "outputs": [],
   "source": [
    "# Chạy undetected chromedriver để lấy dữ liệu có trong link url đưa vào\n",
    "def scrapAll_fromSingleURL(driver, individual_HouseUrl):\n",
    "    #driver = uc.Chrome()\n",
    "    #driver.maximize_window()\n",
    "    driver.get(individual_HouseUrl)\n",
    "    \n",
    "    time.sleep(5) # Chờ trang load xong.\n",
    "    # PART-I: Đơn giản, ít bị lỗi\n",
    "    tieude = driver.find_elements(\"xpath\", '//h1[@class=\"re__pr-title pr-title js__pr-title\"]')\n",
    "    tieude = tieude[0].text\n",
    "    diachi = driver.find_elements(\"xpath\", '//span[@class=\"re__pr-short-description js__pr-address\"]')\n",
    "    diachi = diachi[0].text\n",
    "    category = driver.find_elements(\"xpath\", '//a[@class=\"re__link-se\"]')\n",
    "    khuvuc = category[2].text\n",
    "\n",
    "    # PART-II: Đơn giản, ít bị lỗi\n",
    "    ngayloaima = driver.find_elements(\"xpath\", '//div[@class=\"re__pr-short-info-item js__pr-config-item\"]//span[@class=\"value\"]')\n",
    "    #print(len(ngayloaima))\n",
    "    ngaydang = ngayloaima[0].get_attribute(\"innerHTML\")\n",
    "    ngayhethan = ngayloaima[1].get_attribute(\"innerHTML\")\n",
    "    loaitin = ngayloaima[2].get_attribute(\"innerHTML\")\n",
    "    matin = ngayloaima[3].get_attribute(\"innerHTML\")\n",
    "\n",
    "    # PART-III: Có thể gặp lỗi\n",
    "    nguoidang_raw = driver.find_elements(\"xpath\", '//div[@class=\"re__contact-name js_contact-name\"]//a[@tracking-id=\"user-listing-ldp\"]')[0].get_attribute(\"innerHTML\")\n",
    "    #print(len(nguoidang_raw))\n",
    "    nguoidang = nguoidang_raw.strip() # Xóa các khoảng trắng, ví dụ: \"   Nguyễn Văn A   \".\n",
    "\n",
    "    # PART-IV: Gồm những data quan trọng nhất\n",
    "    item_title_raw = driver.find_elements(\"xpath\", '//div[@class=\"re__pr-specs-content-item\"]//span[@class=\"re__pr-specs-content-item-title\"]')\n",
    "    item_value_raw = driver.find_elements(\"xpath\", '//div[@class=\"re__pr-specs-content-item\"]//span[@class=\"re__pr-specs-content-item-value\"]')\n",
    "    titleList = [] # Tại trang batdongsan.com.vn thì phần này có trình bày thị giác giống với bảng\n",
    "    valueList = [] # Ví dụ: Mặt tiền | 4 m | Đường vào | 6 m\n",
    "    for index in range(0, len(item_title_raw)):\n",
    "        titleList.append(item_title_raw[index].get_attribute(\"innerHTML\"))\n",
    "        valueList.append(item_value_raw[index].get_attribute(\"innerHTML\"))\n",
    "    dictVar = getMax11Fields_dependOnInputLength(titleList, valueList)\n",
    "    \n",
    "    # PART-V: Có thể gặp lỗi\n",
    "    element = driver.find_element(\"xpath\", '//h3[@class=\"re__section-title\"]')\n",
    "    driver.execute_script(\"arguments[0].scrollIntoView();\", element) # Lăn màn hình xuống chỗ có dòng chữ \"Khoảng giá phổ biến\".\n",
    "    time.sleep(5) # và chờ 5 giây để trang load các text là giá trị n trăm triệu trên mét vuông.\n",
    "    khoanggiaphobien_path = '//div[@class=\"pricing-content\"]//div[@class=\"pricing-content-row\"]//div[@class=\"pricing-content--r2\"]'\n",
    "    khoanggiaphobien = driver.find_elements(\"xpath\", khoanggiaphobien_path) # Lần lượt chứa Min, nổi bật nhất, Max trong khu vực.\n",
    "    khoanggiaphobien_min = khoanggiaphobien[0].text\n",
    "    khoanggiaphobien_popular = khoanggiaphobien[1].text\n",
    "    khoanggiaphobien_max = khoanggiaphobien[2].text\n",
    "    khoanggiaphobien_ofThisHouse = driver.find_elements(\"xpath\", '//div[@class=\"pricing-product\"]//div[@class=\"pricing-content\"]//div[@class=\"pricing-content--r2\"]')\n",
    "    khoanggiaphobien_ofThisHouse = khoanggiaphobien_ofThisHouse[0].text # Giá bán n trăm triệu trên mét vuông của tin đang xem.\n",
    "    '''\n",
    "    # PART-VI: Rất dễ xảy ra lỗi, lỗi thường xuyên\n",
    "    buttonPath = '//div[@class=\"re__btn re__btn-cyan-solid--md phone js__phone\"]' # Thẻ Div chứa số điện thoại đang bị ẩn ***, \n",
    "    # lưu ý là nên thu nhỏ Developer tools lại, để thấy class của button này khi nó đứng thẳng (phóng to DevTools làm nó nằm ngang và địa chỉ class bị ẩn). \n",
    "    wait = WebDriverWait(driver, 10)\n",
    "    button = driver.find_element(\"xpath\", buttonPath)\n",
    "    button.click()\n",
    "    wait = WebDriverWait(driver, 30) # nếu đợi <10 giây thì nó sẽ lỗi, bởi vì SĐT vẫn còn bị ẩn ***.\n",
    "    sdt_raw1 = driver.find_elements(\"xpath\", '//span[@class=\"re__content\"]//span')\n",
    "    sdt_raw2 = sdt_raw1[0].get_attribute(\"innerHTML\")\n",
    "    sdt = sdt_raw2.replace(\" \", \"\")\n",
    "    time.sleep(40)\n",
    "    '''\n",
    "    dictVarFinal = uniteAll_Into1Dict(tieude, diachi, khuvuc, ngaydang, ngayhethan, loaitin, matin, nguoidang, khoanggiaphobien_min, khoanggiaphobien_popular, khoanggiaphobien_max, khoanggiaphobien_ofThisHouse, dictVar)\n",
    "    #driver.close()\n",
    "    return dictVarFinal"
   ]
  },
  {
   "cell_type": "markdown",
   "id": "a3e0903e-09d8-47b3-8280-a13c5f9c1bb7",
   "metadata": {
    "tags": []
   },
   "source": [
    "## 3.3 Chạy crawl"
   ]
  },
  {
   "cell_type": "code",
   "execution_count": 7,
   "id": "a918a00b-a893-4dcb-b03a-31ae09dbad4d",
   "metadata": {},
   "outputs": [
    {
     "name": "stdout",
     "output_type": "stream",
     "text": [
      "Variable type = <class 'str'>\n",
      "https://batdongsan.com.vn/ban-nha-mat-pho-duong-so-8-phuong-linh-chieu/-moi-dep-xay-kien-co-1t3l-tien-kd-vp-gan-vincom-thu-duc-ngang-6m-vuong-vuc-san-rong-oto-pr36835594\n"
     ]
    }
   ],
   "source": [
    "# Nếu gặp phải trường hợp một trang tin bán nhà nào đó không crawl về được,\n",
    "# thì crawl url lưu sẵn trong biến \"write_thisWhenError\" này để thay thế.\n",
    "# Điều này giúp đảm bảo index của urls_list không bị xáo trộn,\n",
    "# Tuy nhiên, nó cũng đồng nghĩa với việc tạo duplicate.\n",
    "write_thisWhenError = urls_list[2] # URL tại vị trí thứ 3 trong danh sách.\n",
    "print(\"Variable type =\", type(write_thisWhenError)) # Chú ý, đường dẫn phải luôn là kiểu string.\n",
    "print(write_thisWhenError)"
   ]
  },
  {
   "cell_type": "code",
   "execution_count": 11,
   "id": "923f245c-8d68-4490-99fa-60ec5db1bad9",
   "metadata": {},
   "outputs": [],
   "source": [
    "# MAIN\n",
    "driver = uc.Chrome(version_main=114)\n",
    "driver.maximize_window() # Phóng to màn hình.\n",
    "\n",
    "# Tips: Chỉnh lại \"urls_list[index_start:index_end+1]\" để crawl từng phần nhỏ, thay vì làm tất cả trong một lần.\n",
    "# Nên thử dần dần xem có lỗi gì hay không, ví dụ [:5], [:100] rồi hẵng lên đến vài nghìn mẫu dữ liệu. Nhằm tránh sửa đi sửa lại, giữa chừng bị ngắt chương trình.\n",
    "for EachHouseURL in urls_list[20500:23000]:\n",
    "    try: # Với từng url của trang tin bán nhà chi tiết, chúng ta sẽ crawl về những thông tin tương ứng\n",
    "        dictVarFinal = scrapAll_fromSingleURL(driver, EachHouseURL) # Tổng hợp chúng lại thành một biến Dictionary\n",
    "        addingSingleRow_toBaseCSV(dictVarFinal) # Sau đó, viết chúng ra thành một dòng trong file dataset.csv\n",
    "    except: # Nếu xảy ra lỗi gì đó, thì crawl url chuẩn bị sẵn thay thế\n",
    "        dictVarFinal = scrapAll_fromSingleURL(driver, write_thisWhenError)\n",
    "        addingSingleRow_toBaseCSV(dictVarFinal)\n",
    "\n",
    "driver.close()\n",
    "driver.quit()"
   ]
  },
  {
   "cell_type": "code",
   "execution_count": null,
   "id": "3255215c-8cb1-49aa-acb5-d23f0944d82b",
   "metadata": {},
   "outputs": [],
   "source": [
    "# Dùng để test cơ bản khi chạy với ít dữ liệu.\n",
    "# In ra mẫu vừa được crawl gần nhất:\n",
    "#print(len(dictVarFinal))\n",
    "#print(dictVarFinal)"
   ]
  },
  {
   "cell_type": "code",
   "execution_count": null,
   "id": "6178b3a6-8197-4ef5-be87-413334fbecda",
   "metadata": {},
   "outputs": [],
   "source": [
    "# Lệnh để tắt máy sau khi crawl xong cell trên:\n",
    "#import os\n",
    "#os.system(\"shutdown /s /t 1\")"
   ]
  },
  {
   "cell_type": "markdown",
   "id": "d6725eb6-caec-4c18-a090-21480efe2741",
   "metadata": {
    "tags": []
   },
   "source": [
    "## 3.4 Xem lại Dataset"
   ]
  },
  {
   "cell_type": "code",
   "execution_count": 12,
   "id": "1bd2b1be-c393-40c9-9da4-311bcde77689",
   "metadata": {
    "tags": []
   },
   "outputs": [
    {
     "name": "stdout",
     "output_type": "stream",
     "text": [
      "Độ dài dataset là:  20500\n",
      "<class 'pandas.core.frame.DataFrame'>\n",
      "RangeIndex: 20500 entries, 0 to 20499\n",
      "Data columns (total 23 columns):\n",
      " #   Column                       Non-Null Count  Dtype \n",
      "---  ------                       --------------  ----- \n",
      " 0   Tiêu đề                      20498 non-null  object\n",
      " 1   Địa chỉ                      20498 non-null  object\n",
      " 2   Khu vực                      20499 non-null  object\n",
      " 3   Ngày đăng                    20500 non-null  object\n",
      " 4   Ngày hết hạn                 20500 non-null  object\n",
      " 5   Loại tin                     20500 non-null  object\n",
      " 6   Mã tin                       20500 non-null  int64 \n",
      " 7   Người đăng                   20500 non-null  object\n",
      " 8   Khoảng giá phổ biến Min  19078 non-null  object\n",
      " 9   Giá phổ biến nhất            18889 non-null  object\n",
      " 10  Khoảng giá phổ biến Max  20185 non-null  object\n",
      " 11  Giá của tin đang xem         18123 non-null  object\n",
      " 12  Diện tích                    20498 non-null  object\n",
      " 13  Mức giá                      20500 non-null  object\n",
      " 14  Mặt tiền                     8500 non-null   object\n",
      " 15  Đường vào                    8383 non-null   object\n",
      " 16  Hướng nhà                    4259 non-null   object\n",
      " 17  Hướng ban công               2187 non-null   object\n",
      " 18  Số tầng                      14788 non-null  object\n",
      " 19  Số phòng ngủ                 13264 non-null  object\n",
      " 20  Số toilet                    12168 non-null  object\n",
      " 21  Pháp lý                      14272 non-null  object\n",
      " 22  Nội thất                     8547 non-null   object\n",
      "dtypes: int64(1), object(22)\n",
      "memory usage: 3.6+ MB\n"
     ]
    }
   ],
   "source": [
    "df2 = pd.read_csv('dataset.csv')\n",
    "print(\"Độ dài dataset là: \", len(df2))\n",
    "df2.info()"
   ]
  },
  {
   "cell_type": "code",
   "execution_count": null,
   "id": "d93b694e-92ad-4915-8e19-92f74b67a59a",
   "metadata": {},
   "outputs": [],
   "source": [
    "df2[0:4].filter(items=[\"Người đăng\", \"Khoảng giá phổ biến Min\", \"Giá phổ biến nhất\", \"Khoảng giá phổ biến Max\", \"Giá của tin đang xem\", \"Diện tích\", \"Mức giá\"])"
   ]
  },
  {
   "cell_type": "code",
   "execution_count": 13,
   "id": "e108f271-9d4e-455b-8298-ad9987b5fbb6",
   "metadata": {},
   "outputs": [
    {
     "data": {
      "text/html": [
       "<div>\n",
       "<style scoped>\n",
       "    .dataframe tbody tr th:only-of-type {\n",
       "        vertical-align: middle;\n",
       "    }\n",
       "\n",
       "    .dataframe tbody tr th {\n",
       "        vertical-align: top;\n",
       "    }\n",
       "\n",
       "    .dataframe thead th {\n",
       "        text-align: right;\n",
       "    }\n",
       "</style>\n",
       "<table border=\"1\" class=\"dataframe\">\n",
       "  <thead>\n",
       "    <tr style=\"text-align: right;\">\n",
       "      <th></th>\n",
       "      <th>Tiêu đề</th>\n",
       "      <th>Địa chỉ</th>\n",
       "      <th>Khu vực</th>\n",
       "      <th>Ngày đăng</th>\n",
       "      <th>Ngày hết hạn</th>\n",
       "      <th>Loại tin</th>\n",
       "      <th>Mã tin</th>\n",
       "      <th>Người đăng</th>\n",
       "      <th>Khoảng giá phổ biến Min</th>\n",
       "      <th>Giá phổ biến nhất</th>\n",
       "      <th>...</th>\n",
       "      <th>Mức giá</th>\n",
       "      <th>Mặt tiền</th>\n",
       "      <th>Đường vào</th>\n",
       "      <th>Hướng nhà</th>\n",
       "      <th>Hướng ban công</th>\n",
       "      <th>Số tầng</th>\n",
       "      <th>Số phòng ngủ</th>\n",
       "      <th>Số toilet</th>\n",
       "      <th>Pháp lý</th>\n",
       "      <th>Nội thất</th>\n",
       "    </tr>\n",
       "  </thead>\n",
       "  <tbody>\n",
       "    <tr>\n",
       "      <th>20497</th>\n",
       "      <td>Villa sân vườn đường Lê Văn Sỹ, DT: 7x18m. Giá...</td>\n",
       "      <td>Đường Lê Văn Sỹ, Phường 12, Quận 3, Hồ Chí Minh</td>\n",
       "      <td>Quận 3</td>\n",
       "      <td>13/06/2023</td>\n",
       "      <td>23/06/2023</td>\n",
       "      <td>Tin thường</td>\n",
       "      <td>36732299</td>\n",
       "      <td>Văn Lai</td>\n",
       "      <td>144 triệu/m²</td>\n",
       "      <td>192 triệu/m²</td>\n",
       "      <td>...</td>\n",
       "      <td>17,5 tỷ</td>\n",
       "      <td>NaN</td>\n",
       "      <td>NaN</td>\n",
       "      <td>NaN</td>\n",
       "      <td>NaN</td>\n",
       "      <td>3 tầng</td>\n",
       "      <td>4 phòng</td>\n",
       "      <td>5 phòng</td>\n",
       "      <td>Sổ đỏ/ Sổ hồng</td>\n",
       "      <td>NaN</td>\n",
       "    </tr>\n",
       "    <tr>\n",
       "      <th>20498</th>\n",
       "      <td>Vip P. 10, Q. Phú Nhuận, sát MT, thông Nguyễn ...</td>\n",
       "      <td>Phường 10, Phú Nhuận, Hồ Chí Minh</td>\n",
       "      <td>Phú Nhuận</td>\n",
       "      <td>16/06/2023</td>\n",
       "      <td>26/06/2023</td>\n",
       "      <td>Tin thường</td>\n",
       "      <td>37469613</td>\n",
       "      <td>Nguyễn Ngọc Trúc Mai</td>\n",
       "      <td>173 triệu/m²</td>\n",
       "      <td>221 triệu/m²</td>\n",
       "      <td>...</td>\n",
       "      <td>16,6 tỷ</td>\n",
       "      <td>NaN</td>\n",
       "      <td>NaN</td>\n",
       "      <td>NaN</td>\n",
       "      <td>NaN</td>\n",
       "      <td>4 tầng</td>\n",
       "      <td>5 phòng</td>\n",
       "      <td>7 phòng</td>\n",
       "      <td>Sổ đỏ/ Sổ hồng</td>\n",
       "      <td>Đầy đủ</td>\n",
       "    </tr>\n",
       "    <tr>\n",
       "      <th>20499</th>\n",
       "      <td>Bán nhanh biệt thự Thảo Điền Quận 2 - DT 10x20...</td>\n",
       "      <td>Đường Trần Ngọc Diện, Phường Thảo Điền, Quận 2...</td>\n",
       "      <td>Quận 2</td>\n",
       "      <td>15/06/2023</td>\n",
       "      <td>25/06/2023</td>\n",
       "      <td>Tin thường</td>\n",
       "      <td>36590138</td>\n",
       "      <td>Nhật Nam</td>\n",
       "      <td>166 triệu/m²</td>\n",
       "      <td>236 triệu/m²</td>\n",
       "      <td>...</td>\n",
       "      <td>35 tỷ</td>\n",
       "      <td>10 m</td>\n",
       "      <td>8 m</td>\n",
       "      <td>NaN</td>\n",
       "      <td>NaN</td>\n",
       "      <td>4 tầng</td>\n",
       "      <td>5 phòng</td>\n",
       "      <td>5 phòng</td>\n",
       "      <td>Sổ đỏ/ Sổ hồng</td>\n",
       "      <td>Đầy đủ</td>\n",
       "    </tr>\n",
       "  </tbody>\n",
       "</table>\n",
       "<p>3 rows × 23 columns</p>\n",
       "</div>"
      ],
      "text/plain": [
       "                                                 Tiêu đề  \\\n",
       "20497  Villa sân vườn đường Lê Văn Sỹ, DT: 7x18m. Giá...   \n",
       "20498  Vip P. 10, Q. Phú Nhuận, sát MT, thông Nguyễn ...   \n",
       "20499  Bán nhanh biệt thự Thảo Điền Quận 2 - DT 10x20...   \n",
       "\n",
       "                                                 Địa chỉ    Khu vực  \\\n",
       "20497    Đường Lê Văn Sỹ, Phường 12, Quận 3, Hồ Chí Minh     Quận 3   \n",
       "20498                  Phường 10, Phú Nhuận, Hồ Chí Minh  Phú Nhuận   \n",
       "20499  Đường Trần Ngọc Diện, Phường Thảo Điền, Quận 2...     Quận 2   \n",
       "\n",
       "        Ngày đăng Ngày hết hạn    Loại tin    Mã tin            Người đăng  \\\n",
       "20497  13/06/2023   23/06/2023  Tin thường  36732299               Văn Lai   \n",
       "20498  16/06/2023   26/06/2023  Tin thường  37469613  Nguyễn Ngọc Trúc Mai   \n",
       "20499  15/06/2023   25/06/2023  Tin thường  36590138              Nhật Nam   \n",
       "\n",
       "      Khoảng giá phổ biến Min Giá phổ biến nhất  ...  Mức giá Mặt tiền  \\\n",
       "20497               144 triệu/m²     192 triệu/m²  ...  17,5 tỷ      NaN   \n",
       "20498               173 triệu/m²     221 triệu/m²  ...  16,6 tỷ      NaN   \n",
       "20499               166 triệu/m²     236 triệu/m²  ...    35 tỷ     10 m   \n",
       "\n",
       "      Đường vào Hướng nhà Hướng ban công Số tầng Số phòng ngủ Số toilet  \\\n",
       "20497       NaN       NaN            NaN  3 tầng      4 phòng   5 phòng   \n",
       "20498       NaN       NaN            NaN  4 tầng      5 phòng   7 phòng   \n",
       "20499       8 m       NaN            NaN  4 tầng      5 phòng   5 phòng   \n",
       "\n",
       "              Pháp lý Nội thất  \n",
       "20497  Sổ đỏ/ Sổ hồng      NaN  \n",
       "20498  Sổ đỏ/ Sổ hồng   Đầy đủ  \n",
       "20499  Sổ đỏ/ Sổ hồng   Đầy đủ  \n",
       "\n",
       "[3 rows x 23 columns]"
      ]
     },
     "execution_count": 13,
     "metadata": {},
     "output_type": "execute_result"
    }
   ],
   "source": [
    "df2.tail(3)"
   ]
  },
  {
   "cell_type": "code",
   "execution_count": null,
   "id": "db7e192c-fdbf-461c-ae63-fbb187214b41",
   "metadata": {},
   "outputs": [],
   "source": []
  }
 ],
 "metadata": {
  "kernelspec": {
   "display_name": "Python 3 (ipykernel)",
   "language": "python",
   "name": "python3"
  },
  "language_info": {
   "codemirror_mode": {
    "name": "ipython",
    "version": 3
   },
   "file_extension": ".py",
   "mimetype": "text/x-python",
   "name": "python",
   "nbconvert_exporter": "python",
   "pygments_lexer": "ipython3",
   "version": "3.8.10"
  }
 },
 "nbformat": 4,
 "nbformat_minor": 5
}
